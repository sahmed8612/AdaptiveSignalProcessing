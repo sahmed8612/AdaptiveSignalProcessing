{
 "cells": [
  {
   "cell_type": "code",
   "execution_count": 1,
   "metadata": {},
   "outputs": [],
   "source": [
    "%load_ext autoreload\n",
    "%autoreload 2\n",
    "%matplotlib inline"
   ]
  },
  {
   "cell_type": "code",
   "execution_count": 4,
   "metadata": {},
   "outputs": [],
   "source": [
    "import numpy as np\n",
    "import matplotlib.pyplot as plt\n",
    "from hottbox.core import Tensor"
   ]
  },
  {
   "cell_type": "markdown",
   "metadata": {
    "toc-hr-collapsed": false
   },
   "source": [
    "[Return to Table of Contents](./0_Table_of_contents.ipynb)"
   ]
  },
  {
   "cell_type": "markdown",
   "metadata": {
    "toc-hr-collapsed": false
   },
   "source": [
    "# Tensors and basic operations"
   ]
  },
  {
   "cell_type": "markdown",
   "metadata": {
    "toc-hr-collapsed": true
   },
   "source": [
    "<img src=\"./imgs/tensors_dogs.jpg\" alt=\"Drawing\" style=\"width: 500px;\"/>\n",
    "\n",
    "A tensor is a multi-dimenaional array of data where each dimension is conventionally referred to as the **mode**. Tensor order is defined by the number of its modes which is equivivalent to the number of indices required to identify a particular entry of a multi-dimensional array. For ease of visualisation and compact notation, we consider a third order tensor $\\mathbf{\\underline{X}} \\in \\mathbb{R}^{I \\times J \\times K}$. Thus, an element of such a tensor, $\\mathbf{\\underline{X}} \\in \\mathbb{R}^{I \\times J \\times K}$, can be written in a general form as:\n",
    "\n",
    "$$ x_{ijk} = \\mathbf{\\underline{X}}[i, j, k]$$\n",
    "\n",
    "> **Note:** In order to be consistent with Python indexing, count of modes and elements within starts from zeros.\n",
    "\n",
    "Creation of a tensor starts with a formation of a multidimensional array of data."
   ]
  },
  {
   "cell_type": "code",
   "execution_count": 5,
   "metadata": {},
   "outputs": [
    {
     "name": "stdout",
     "output_type": "stream",
     "text": [
      "This tensor is of order 3 and consists of 24 elements.\n",
      "Sizes and names of its modes are (2, 3, 4) and ['mode-0', 'mode-1', 'mode-2'] respectively.\n"
     ]
    },
    {
     "data": {
      "text/plain": [
       "array([[[ 0,  1,  2,  3],\n",
       "        [ 4,  5,  6,  7],\n",
       "        [ 8,  9, 10, 11]],\n",
       "\n",
       "       [[12, 13, 14, 15],\n",
       "        [16, 17, 18, 19],\n",
       "        [20, 21, 22, 23]]])"
      ]
     },
     "execution_count": 5,
     "metadata": {},
     "output_type": "execute_result"
    }
   ],
   "source": [
    "# Create 3-d array of data\n",
    "array_3d = np.arange(24).reshape((2, 3, 4))\n",
    "\n",
    "# Create tensor\n",
    "tensor = Tensor(array_3d)\n",
    "\n",
    "# Result preview\n",
    "print(tensor)\n",
    "tensor.data"
   ]
  },
  {
   "cell_type": "markdown",
   "metadata": {
    "toc-hr-collapsed": true
   },
   "source": [
    "## **Assigment 1**\n",
    "\n",
    "1. Create a tensor of order 5 (of any shape) and with all its values equal to 5. Then, calculate its Frobenious norm. \n",
    "2. Construct several tensors of orders varying from 3 to 20, with the size of each dimension equal to 2. Plot the relation between an order of a tensor and the number of its elements.\n",
    "3. Construct several tensors of order 3 with the size of each dimension varying from 3 to 15. Plot the relation between the size of dimensions of a tensor and the number of its elements.\n",
    "4. Analyse and compare the so obtained graphs."
   ]
  },
  {
   "cell_type": "markdown",
   "metadata": {},
   "source": [
    "### Solution: Part 1"
   ]
  },
  {
   "cell_type": "code",
   "execution_count": 6,
   "metadata": {},
   "outputs": [
    {
     "name": "stdout",
     "output_type": "stream",
     "text": [
      "This tensor is of order 5 and consists of 32 elements.\n",
      "Sizes and names of its modes are (2, 2, 2, 2, 2) and ['mode-0', 'mode-1', 'mode-2', 'mode-3', 'mode-4'] respectively.\n"
     ]
    }
   ],
   "source": [
    "# Create a tensor\n",
    "tensor = Tensor( 5*np.ones((2,2,2,2,2)) )\n",
    "print(tensor)"
   ]
  },
  {
   "cell_type": "code",
   "execution_count": 7,
   "metadata": {},
   "outputs": [
    {
     "name": "stdout",
     "output_type": "stream",
     "text": [
      "28.284271247461902\n"
     ]
    }
   ],
   "source": [
    "# Calculate Frobenious norm\n",
    "print(tensor.frob_norm)"
   ]
  },
  {
   "cell_type": "markdown",
   "metadata": {},
   "source": [
    "### Solution: Part 2"
   ]
  },
  {
   "cell_type": "code",
   "execution_count": 8,
   "metadata": {},
   "outputs": [
    {
     "name": "stdout",
     "output_type": "stream",
     "text": [
      "For a balanced tensor: number of elements = (size of each dimension) ^ (order of tensor)\n"
     ]
    }
   ],
   "source": [
    "# Create tensors and collect information\n",
    "tensor_order = range(3, 20+1)\n",
    "number_of_elements = []\n",
    "\n",
    "for order in tensor_order:\n",
    "    number_of_elements.append( Tensor( np.zeros( tuple( 2*np.ones(order, dtype=int) ) ) ).size )\n",
    "    \n",
    "print('For a balanced tensor: number of elements = (size of each dimension) ^ (order of tensor)')"
   ]
  },
  {
   "cell_type": "code",
   "execution_count": 9,
   "metadata": {},
   "outputs": [
    {
     "data": {
      "image/png": "[encoded data removed]",
      "text/plain": [
       "<Figure size 432x288 with 1 Axes>"
      ]
     },
     "metadata": {
      "needs_background": "light"
     },
     "output_type": "display_data"
    }
   ],
   "source": [
    "# Plot results\n",
    "plt.figure()\n",
    "plt.plot(tensor_order, number_of_elements)\n",
    "plt.xlabel('Tensor Order', fontsize=18)\n",
    "plt.ylabel('Number of Elements', fontsize=18)\n",
    "plt.show()"
   ]
  },
  {
   "cell_type": "markdown",
   "metadata": {},
   "source": [
    "### Solution: Part 3"
   ]
  },
  {
   "cell_type": "code",
   "execution_count": 10,
   "metadata": {},
   "outputs": [
    {
     "name": "stdout",
     "output_type": "stream",
     "text": [
      "For a balanced tensor: number of elements = (size of each dimension) ^ (order of tensor)\n"
     ]
    }
   ],
   "source": [
    "# Create tensors and collect information\n",
    "size_of_dimension = range(3, 15+1)\n",
    "number_of_elements = []\n",
    "\n",
    "for size in size_of_dimension:\n",
    "    number_of_elements.append( Tensor( np.zeros( (size, size, size) ) ).size )\n",
    "    \n",
    "print('For a balanced tensor: number of elements = (size of each dimension) ^ (order of tensor)')"
   ]
  },
  {
   "cell_type": "code",
   "execution_count": 11,
   "metadata": {},
   "outputs": [
    {
     "data": {
      "image/png": "[encoded data removed]",
      "text/plain": [
       "<Figure size 432x288 with 1 Axes>"
      ]
     },
     "metadata": {
      "needs_background": "light"
     },
     "output_type": "display_data"
    }
   ],
   "source": [
    "# Plot results\n",
    "plt.figure()\n",
    "plt.plot(size_of_dimension, number_of_elements)\n",
    "plt.xlabel('Size of Dimension', fontsize=18)\n",
    "plt.ylabel('Number of Elements', fontsize=18)\n",
    "plt.show()"
   ]
  },
  {
   "cell_type": "markdown",
   "metadata": {},
   "source": [
    "### Solution: Part 4"
   ]
  },
  {
   "cell_type": "markdown",
   "metadata": {},
   "source": [
    "Under the assumption that a given tensor is balanced, i.e. the size of every dimension is equal, then the following relationship holds: a = b<sup>c</sup> where a is the number of elements, b is the size of each dimension and c is the order of the tensor. Clearly, the number of elements increases exponentially with the tensor order, also known as **the curse of dimensionality.**"
   ]
  },
  {
   "cell_type": "markdown",
   "metadata": {
    "toc-hr-collapsed": false
   },
   "source": [
    "# Most common tensor substructures\n",
    "<img src=\"./imgs/tensor_substructures.png\" alt=\"Drawing\" style=\"width: 500px;\"/>\n",
    "\n",
    "1. A **fiber** is a vector obtained by fixing all but one of the indices, e.g.  $\\mathbf{\\underline{X}}[i,:,k]$ is the mode-2 fiber $\\mathbf{\\underline{X}}$ (usually refered to as row fiber). \n",
    "\n",
    "1. Fixing all but two of the indices yields a matrix called a **slice** of a tensor, e.g. $\\mathbf{\\underline{X}}[:,:,k]$ is the mode-[1,2] slice (usually refered to as the frontal slice).\n",
    "\n",
    "**Note:** The same principles and definitions can be applied to a tensor of an arbitrarily large order. In addition, you can obtain a **subtensor** by fixing at least three indices and letting the remaining ones vary."
   ]
  },
  {
   "cell_type": "code",
   "execution_count": 12,
   "metadata": {},
   "outputs": [
    {
     "data": {
      "text/plain": [
       "array([[[5., 5.],\n",
       "        [5., 5.]],\n",
       "\n",
       "       [[5., 5.],\n",
       "        [5., 5.]]])"
      ]
     },
     "execution_count": 12,
     "metadata": {},
     "output_type": "execute_result"
    }
   ],
   "source": [
    "# Mode-2 fiber\n",
    "tensor.data[0,1,:]"
   ]
  },
  {
   "cell_type": "code",
   "execution_count": 13,
   "metadata": {},
   "outputs": [
    {
     "data": {
      "text/plain": [
       "array([[[[5., 5.],\n",
       "         [5., 5.]],\n",
       "\n",
       "        [[5., 5.],\n",
       "         [5., 5.]]],\n",
       "\n",
       "\n",
       "       [[[5., 5.],\n",
       "         [5., 5.]],\n",
       "\n",
       "        [[5., 5.],\n",
       "         [5., 5.]]]])"
      ]
     },
     "execution_count": 13,
     "metadata": {},
     "output_type": "execute_result"
    }
   ],
   "source": [
    "# Frontal slice\n",
    "tensor.data[0,:,:]"
   ]
  },
  {
   "cell_type": "markdown",
   "metadata": {
    "toc-hr-collapsed": true
   },
   "source": [
    "## **Assigment 2**\n",
    "\n",
    "1. Create a tensor of order 4 which consists of 81 elements and display all its horizontal slices and any five row fibers.\n",
    "2. Create a tensor of order 3 and shape `(4,2,5)`, where the values of each consequent frontal slice are doubled."
   ]
  },
  {
   "cell_type": "markdown",
   "metadata": {},
   "source": [
    "### Solution: Part 1"
   ]
  },
  {
   "cell_type": "code",
   "execution_count": 14,
   "metadata": {},
   "outputs": [
    {
     "name": "stdout",
     "output_type": "stream",
     "text": [
      "This tensor is of order 4 and consists of 81 elements.\n",
      "Sizes and names of its modes are (3, 3, 3, 3) and ['mode-0', 'mode-1', 'mode-2', 'mode-3'] respectively.\n"
     ]
    }
   ],
   "source": [
    "# Create a tensor of order 4\n",
    "tensor = Tensor( np.random.rand(3,3,3,3) )\n",
    "print(tensor)"
   ]
  },
  {
   "cell_type": "code",
   "execution_count": 15,
   "metadata": {},
   "outputs": [
    {
     "name": "stdout",
     "output_type": "stream",
     "text": [
      "[[[0.61326655 0.83446094 0.23069334]\n",
      "  [0.3761192  0.7283264  0.0950039 ]\n",
      "  [0.45537977 0.27453982 0.59693665]]\n",
      "\n",
      " [[0.94821305 0.12145749 0.91111262]\n",
      "  [0.32088167 0.20306732 0.59103762]\n",
      "  [0.72217129 0.13361029 0.8760671 ]]\n",
      "\n",
      " [[0.35590241 0.2711557  0.45880086]\n",
      "  [0.70021995 0.22716824 0.127501  ]\n",
      "  [0.85371004 0.15982248 0.67130197]]]\n",
      "[[[0.49445182 0.21263217 0.86055151]\n",
      "  [0.61523663 0.51837502 0.65019646]\n",
      "  [0.8332913  0.18064698 0.38371865]]\n",
      "\n",
      " [[0.10189754 0.80551174 0.72662378]\n",
      "  [0.82729352 0.06095103 0.65324084]\n",
      "  [0.01104251 0.65331574 0.74592425]]\n",
      "\n",
      " [[0.1597787  0.13885834 0.75287385]\n",
      "  [0.76382603 0.21587478 0.2168245 ]\n",
      "  [0.91384634 0.5618749  0.4892504 ]]]\n",
      "[[[0.25149359 0.35681176 0.02526515]\n",
      "  [0.46016302 0.06659583 0.93846849]\n",
      "  [0.64394747 0.34926809 0.12897167]]\n",
      "\n",
      " [[0.0911777  0.17330717 0.07806896]\n",
      "  [0.22388326 0.78049536 0.39374176]\n",
      "  [0.94791352 0.06224875 0.90920275]]\n",
      "\n",
      " [[0.12190241 0.56966556 0.58110985]\n",
      "  [0.82965014 0.80501483 0.34945634]\n",
      "  [0.72042789 0.87456921 0.64794665]]]\n"
     ]
    }
   ],
   "source": [
    "# Display slices\n",
    "# for every horizontal slice\n",
    "for i in range(tensor.shape[0]):\n",
    "    print(tensor.data[i,:,:])"
   ]
  },
  {
   "cell_type": "code",
   "execution_count": 16,
   "metadata": {},
   "outputs": [
    {
     "name": "stdout",
     "output_type": "stream",
     "text": [
      "[[0.61326655 0.83446094 0.23069334]\n",
      " [0.94821305 0.12145749 0.91111262]\n",
      " [0.35590241 0.2711557  0.45880086]]\n",
      "[[0.49445182 0.21263217 0.86055151]\n",
      " [0.10189754 0.80551174 0.72662378]\n",
      " [0.1597787  0.13885834 0.75287385]]\n",
      "[[0.25149359 0.35681176 0.02526515]\n",
      " [0.0911777  0.17330717 0.07806896]\n",
      " [0.12190241 0.56966556 0.58110985]]\n",
      "[[0.3761192  0.7283264  0.0950039 ]\n",
      " [0.32088167 0.20306732 0.59103762]\n",
      " [0.70021995 0.22716824 0.127501  ]]\n",
      "[[0.61523663 0.51837502 0.65019646]\n",
      " [0.82729352 0.06095103 0.65324084]\n",
      " [0.76382603 0.21587478 0.2168245 ]]\n"
     ]
    }
   ],
   "source": [
    "# Display fibers\n",
    "for i in range(tensor.shape[0]):\n",
    "    print(tensor.data[i,:,0])\n",
    "    \n",
    "for i in range(tensor.shape[0]-1):\n",
    "    print(tensor.data[i,:,1])"
   ]
  },
  {
   "cell_type": "markdown",
   "metadata": {},
   "source": [
    "### Solution: Part 2"
   ]
  },
  {
   "cell_type": "code",
   "execution_count": 17,
   "metadata": {},
   "outputs": [
    {
     "name": "stdout",
     "output_type": "stream",
     "text": [
      "This tensor is of order 3 and consists of 40 elements.\n",
      "Sizes and names of its modes are (4, 2, 5) and ['mode-0', 'mode-1', 'mode-2'] respectively.\n",
      "[[[ 1.  2.  4.  8. 16.]\n",
      "  [ 1.  2.  4.  8. 16.]]\n",
      "\n",
      " [[ 1.  2.  4.  8. 16.]\n",
      "  [ 1.  2.  4.  8. 16.]]\n",
      "\n",
      " [[ 1.  2.  4.  8. 16.]\n",
      "  [ 1.  2.  4.  8. 16.]]\n",
      "\n",
      " [[ 1.  2.  4.  8. 16.]\n",
      "  [ 1.  2.  4.  8. 16.]]]\n"
     ]
    }
   ],
   "source": [
    "# Create a tensor of order 3\n",
    "tensor = Tensor( np.ones((4,2,5)) )\n",
    "\n",
    "# for every frontal slice\n",
    "for i in range(1, tensor.shape[2]):\n",
    "    tensor.data[:,:,i] = 2*tensor.data[:,:,i-1]\n",
    "\n",
    "print(tensor)\n",
    "print(tensor.data)"
   ]
  },
  {
   "cell_type": "markdown",
   "metadata": {
    "toc-hr-collapsed": false
   },
   "source": [
    "# Unfolding\n",
    "\n",
    "Conventionally, unfolding is considered to be a process of element mapping from a tensor to a matrix. In other words, it arranges the mode-$n$ fibers of a tensor to be the matrix columns. Thus, the mode-$n$ unfolding is denoted as:\n",
    "\n",
    "$$\\mathbf{\\underline{A}} \\xrightarrow{n} \\mathbf{A}_{(n)}$$\n",
    "\n",
    "Thus, this operations requires to specify a mode along which a tensor will be unfolded. For a third order tensor, a visual representation of such operation is as following\n",
    "\n",
    "<img src=\"./imgs/unfolding.png\" alt=\"Drawing\" style=\"width: 600px;\"/>\n",
    "\n",
    "In `hottbox` this functionality is available through the corresponding methods of the `Tensor` object, for instance:"
   ]
  },
  {
   "cell_type": "code",
   "execution_count": 18,
   "metadata": {},
   "outputs": [
    {
     "name": "stdout",
     "output_type": "stream",
     "text": [
      "This tensor is of order 2 and consists of 24 elements.\n",
      "Sizes and names of its modes are (2, 12) and ['mode-0', 'mode-1_mode-2'] respectively.\n"
     ]
    },
    {
     "data": {
      "text/plain": [
       "array([[ 0,  1,  2,  3,  4,  5,  6,  7,  8,  9, 10, 11],\n",
       "       [12, 13, 14, 15, 16, 17, 18, 19, 20, 21, 22, 23]])"
      ]
     },
     "execution_count": 18,
     "metadata": {},
     "output_type": "execute_result"
    }
   ],
   "source": [
    "# Create 3-d array of data\n",
    "array_3d = np.arange(24).reshape((2, 3, 4))\n",
    "\n",
    "# Create tensor\n",
    "tensor = Tensor(array_3d)\n",
    "\n",
    "# Unfolding of a tensor\n",
    "tensor.unfold(mode=0)\n",
    "\n",
    "# Result preview\n",
    "print(tensor)\n",
    "tensor.data"
   ]
  },
  {
   "cell_type": "markdown",
   "metadata": {
    "toc-hr-collapsed": true
   },
   "source": [
    "## **Assigment 3**\n",
    "\n",
    "1. Create a tensor, $\\mathbf{\\underline{A}}$, of order 4, in such a way that its version unfolded along the second mode would have sizes `(5,72)`, that is $\\mathbf{A}_{(n)} \\in  \\mathbb{R}^{5 \\times 72}$. Validate your results by displaying the unfolded tensor."
   ]
  },
  {
   "cell_type": "markdown",
   "metadata": {},
   "source": [
    "### Solution : Part 1"
   ]
  },
  {
   "cell_type": "code",
   "execution_count": 19,
   "metadata": {},
   "outputs": [
    {
     "name": "stdout",
     "output_type": "stream",
     "text": [
      "This tensor is of order 4 and consists of 360 elements.\n",
      "Sizes and names of its modes are (2, 5, 6, 6) and ['mode-0', 'mode-1', 'mode-2', 'mode-3'] respectively.\n"
     ]
    },
    {
     "data": {
      "text/plain": [
       "This tensor is of order 2 and consists of 360 elements.\n",
       "Sizes and names of its modes are (5, 72) and ['mode-1', 'mode-0_mode-2_mode-3'] respectively."
      ]
     },
     "execution_count": 19,
     "metadata": {},
     "output_type": "execute_result"
    }
   ],
   "source": [
    "# Create a tensor\n",
    "tensor = Tensor( np.arange( 360 ).reshape((2,5,6,6)) )\n",
    "\n",
    "print(tensor)\n",
    "\n",
    "tensor.unfold(mode=1)"
   ]
  },
  {
   "cell_type": "code",
   "execution_count": 20,
   "metadata": {},
   "outputs": [
    {
     "name": "stdout",
     "output_type": "stream",
     "text": [
      "This tensor is of order 2 and consists of 360 elements.\n",
      "Sizes and names of its modes are (5, 72) and ['mode-1', 'mode-0_mode-2_mode-3'] respectively.\n",
      "[[  0   1   2   3   4   5   6   7   8   9  10  11  12  13  14  15  16  17\n",
      "   18  19  20  21  22  23  24  25  26  27  28  29  30  31  32  33  34  35\n",
      "  180 181 182 183 184 185 186 187 188 189 190 191 192 193 194 195 196 197\n",
      "  198 199 200 201 202 203 204 205 206 207 208 209 210 211 212 213 214 215]\n",
      " [ 36  37  38  39  40  41  42  43  44  45  46  47  48  49  50  51  52  53\n",
      "   54  55  56  57  58  59  60  61  62  63  64  65  66  67  68  69  70  71\n",
      "  216 217 218 219 220 221 222 223 224 225 226 227 228 229 230 231 232 233\n",
      "  234 235 236 237 238 239 240 241 242 243 244 245 246 247 248 249 250 251]\n",
      " [ 72  73  74  75  76  77  78  79  80  81  82  83  84  85  86  87  88  89\n",
      "   90  91  92  93  94  95  96  97  98  99 100 101 102 103 104 105 106 107\n",
      "  252 253 254 255 256 257 258 259 260 261 262 263 264 265 266 267 268 269\n",
      "  270 271 272 273 274 275 276 277 278 279 280 281 282 283 284 285 286 287]\n",
      " [108 109 110 111 112 113 114 115 116 117 118 119 120 121 122 123 124 125\n",
      "  126 127 128 129 130 131 132 133 134 135 136 137 138 139 140 141 142 143\n",
      "  288 289 290 291 292 293 294 295 296 297 298 299 300 301 302 303 304 305\n",
      "  306 307 308 309 310 311 312 313 314 315 316 317 318 319 320 321 322 323]\n",
      " [144 145 146 147 148 149 150 151 152 153 154 155 156 157 158 159 160 161\n",
      "  162 163 164 165 166 167 168 169 170 171 172 173 174 175 176 177 178 179\n",
      "  324 325 326 327 328 329 330 331 332 333 334 335 336 337 338 339 340 341\n",
      "  342 343 344 345 346 347 348 349 350 351 352 353 354 355 356 357 358 359]]\n"
     ]
    }
   ],
   "source": [
    "# Display unfolded version\n",
    "print(tensor)\n",
    "print(tensor.data)"
   ]
  },
  {
   "cell_type": "markdown",
   "metadata": {
    "toc-hr-collapsed": false
   },
   "source": [
    "# Mode-n product \n",
    "<img src=\"./imgs/mode_n_product.png\" alt=\"Drawing\" style=\"width: 600px;\"/>\n",
    "\n",
    "The mode-$n$ product is a multiplication of a tensor  by a matrix along the $n^{th}$ mode of a tensor. This essentially means that each mode-$n$ fiber should be multiplied by this matrix. Mathematically, this can be expressed as:\n",
    "\n",
    "$$\\mathbf{\\underline{X}} \\times_n \\mathbf{A} = \\mathbf{\\underline{Y}} \\quad \\Leftrightarrow  \\quad \\mathbf{Y}_{(n)} = \\mathbf{A} \\mathbf{X}_{(n)}  $$"
   ]
  },
  {
   "cell_type": "code",
   "execution_count": 21,
   "metadata": {},
   "outputs": [
    {
     "name": "stdout",
     "output_type": "stream",
     "text": [
      "This tensor is of order 3 and consists of 40 elements.\n",
      "Sizes and names of its modes are (2, 5, 4) and ['mode-0', 'mode-1', 'mode-2'] respectively.\n"
     ]
    },
    {
     "data": {
      "text/plain": [
       "array([[ 20,  23,  26,  29,  56,  59,  62,  65],\n",
       "       [ 56,  68,  80,  92, 200, 212, 224, 236],\n",
       "       [ 92, 113, 134, 155, 344, 365, 386, 407],\n",
       "       [128, 158, 188, 218, 488, 518, 548, 578],\n",
       "       [164, 203, 242, 281, 632, 671, 710, 749]])"
      ]
     },
     "execution_count": 21,
     "metadata": {},
     "output_type": "execute_result"
    }
   ],
   "source": [
    "I, J, K = 2, 3, 4\n",
    "J_new = 5\n",
    "\n",
    "# Create tensor\n",
    "array_3d = np.arange(I * J * K).reshape(I, J ,K)\n",
    "X = Tensor(array_3d)\n",
    "\n",
    "# Create matrix\n",
    "A = np.arange(J_new * J).reshape(J_new, J)\n",
    "\n",
    "# Performs Mode-n product \n",
    "Y = X.mode_n_product(A, mode=1, inplace=False)\n",
    "\n",
    "# Preview of resulting tensor\n",
    "print(Y)\n",
    "\n",
    "# Preview of its unfolded version\n",
    "Y.unfold(mode=1, inplace=False).data"
   ]
  },
  {
   "cell_type": "markdown",
   "metadata": {
    "toc-hr-collapsed": true
   },
   "source": [
    "## **Assignment 4**\n",
    "\n",
    "1. Perform the mode-$n$ product of a 3-rd order tensor, $\\mathbf{\\underline{X}}$, with a matrix, $\\mathbf{A} \\in  \\mathbb{R}^{5 \\times 4}$, provided that the resulting tensor, $\\mathbf{\\underline{Y}}$, consists of `100` elements. Validate your results. \n",
    "\n",
    "> **Note:** You are encouraged to experiment with the optional parameter `inplace` and to investigate its effect on the result."
   ]
  },
  {
   "cell_type": "markdown",
   "metadata": {},
   "source": [
    "### Solution: Part 1"
   ]
  },
  {
   "cell_type": "code",
   "execution_count": 22,
   "metadata": {},
   "outputs": [],
   "source": [
    "# Create original tensor \n",
    "I, J, K = 2, 5, 5\n",
    "tensor = Tensor( np.arange(I * J * K).reshape((I, J, K)) )"
   ]
  },
  {
   "cell_type": "code",
   "execution_count": 23,
   "metadata": {},
   "outputs": [],
   "source": [
    "# Create matrix\n",
    "matrix = np.ones((10, J))"
   ]
  },
  {
   "cell_type": "code",
   "execution_count": 24,
   "metadata": {},
   "outputs": [
    {
     "name": "stdout",
     "output_type": "stream",
     "text": [
      "This tensor is of order 3 and consists of 100 elements.\n",
      "Sizes and names of its modes are (2, 10, 5) and ['mode-0', 'mode-1', 'mode-2'] respectively.\n"
     ]
    }
   ],
   "source": [
    "# Perform mode-n product \n",
    "tensor.mode_n_product(matrix, mode=1, inplace=True)\n",
    "print(tensor)"
   ]
  },
  {
   "cell_type": "code",
   "execution_count": 23,
   "metadata": {},
   "outputs": [],
   "source": [
    "# Validate equivalence between the left and right hand side\n"
   ]
  },
  {
   "cell_type": "markdown",
   "metadata": {},
   "source": [
    "# Properties of mode-n product\n",
    "\n",
    "1. For distinct modes in a series of multiplications, the order of the multiplication is irrelevent: \n",
    "\n",
    "    $$\\mathbf{\\underline{X}} \\times_n \\mathbf{A} \\times_m \\mathbf{B} = \\mathbf{\\underline{X}} \\times_m \\mathbf{B} \\times_n \\mathbf{A} \\quad (m \\neq n)$$\n",
    "\n",
    "1. However, this does not hold if the modes are the same :\n",
    "\n",
    "    $$\\mathbf{\\underline{X}} \\times_n \\mathbf{A} \\times_n \\mathbf{B} = \\mathbf{\\underline{X}} \\times_n (\\mathbf{B}\\mathbf{A})$$"
   ]
  },
  {
   "cell_type": "markdown",
   "metadata": {
    "toc-hr-collapsed": true
   },
   "source": [
    "## **Assignment 5**\n",
    "\n",
    "1. Validate both of the above properties empirically \n",
    "2. Prove the second property analytically\n",
    "\n",
    "> **Note:** Be aware of consequences of the optional parameter `inplace` (its default value is set to `True`)."
   ]
  },
  {
   "cell_type": "markdown",
   "metadata": {},
   "source": [
    "### Solution: Part 1"
   ]
  },
  {
   "cell_type": "code",
   "execution_count": 24,
   "metadata": {},
   "outputs": [],
   "source": [
    "# Create tensor\n",
    "tensor = Tensor( np.arange(125).reshape((5,5,5)) )"
   ]
  },
  {
   "cell_type": "code",
   "execution_count": 37,
   "metadata": {},
   "outputs": [],
   "source": [
    "# Create matrices\n",
    "A = np.ones((5,5))\n",
    "B = np.arange(25).reshape((5,5))"
   ]
  },
  {
   "cell_type": "code",
   "execution_count": 38,
   "metadata": {},
   "outputs": [
    {
     "data": {
      "text/plain": [
       "True"
      ]
     },
     "execution_count": 38,
     "metadata": {},
     "output_type": "execute_result"
    }
   ],
   "source": [
    "# Validate property 1\n",
    "lhs = tensor.mode_n_product(A, mode=0, inplace=False).mode_n_product(B, mode=1, inplace=False)\n",
    "rhs = tensor.mode_n_product(B, mode=1, inplace=False).mode_n_product(A, mode=0, inplace=False)\n",
    "\n",
    "lhs == rhs"
   ]
  },
  {
   "cell_type": "code",
   "execution_count": 39,
   "metadata": {},
   "outputs": [
    {
     "data": {
      "text/plain": [
       "False"
      ]
     },
     "execution_count": 39,
     "metadata": {},
     "output_type": "execute_result"
    }
   ],
   "source": [
    "# Validate property 2\n",
    "lhs = tensor.mode_n_product(A, mode=0, inplace=False).mode_n_product(B, mode=0, inplace=False)\n",
    "rhs = tensor.mode_n_product(B, mode=0, inplace=False).mode_n_product(A, mode=0, inplace=False)\n",
    "\n",
    "lhs == rhs"
   ]
  },
  {
   "cell_type": "markdown",
   "metadata": {
    "toc-hr-collapsed": true
   },
   "source": [
    "### Solution: Part 2\n",
    "\n",
    "Use [LaTeX syntax](https://stackoverflow.com/questions/13208286/how-to-write-latex-in-ipython-notebook) for analytical deriviations for the second property below.\n"
   ]
  },
  {
   "cell_type": "code",
   "execution_count": 49,
   "metadata": {},
   "outputs": [
    {
     "data": {
      "text/latex": [
       "\n",
       "Let \n",
       "$$\\mathbf{\\underline{X}} \\in  \\mathbb{R}^{I_1 \\times I_2 \\times ... \\times I_n \\times ... \\times I_N}$$ \n",
       "$$\\mathbf{A} \\in  \\mathbb{R}^{I_A \\times I_n}$$\n",
       "$$\\mathbf{B} \\in  \\mathbb{R}^{I_B \\times I_A}$$\n",
       "\n",
       "Consider dimensions of LHS\n",
       "$$ \\mathbf{\\underline{X}} \\times_n \\mathbf{A} \\in  \\mathbb{R}^{I_1 \\times I_2 \\times ... \\times I_A \\times ... \\times I_N}$$\n",
       "$$ \\mathbf{\\underline{X}} \\times_n \\mathbf{A} \\times_n \\mathbf{B} \\in  \\mathbb{R}^{I_1 \\times I_2 \\times ... \\times I_B \\times ... \\times I_N}$$\n",
       "\n",
       "Consider dimension of RHS\n",
       "$$ (\\mathbf{B}\\mathbf{A}) \\in \\mathbb{R}^{I_B \\times I_n}$$\n",
       "$$ \\mathbf{\\underline{X}} \\times_n (\\mathbf{B}\\mathbf{A}) \\in  \\mathbb{R}^{I_1 \\times I_2 \\times ... \\times I_B \\times ... \\times I_N}$$\n",
       "\n",
       "The dimensions of both sides agree."
      ],
      "text/plain": [
       "<IPython.core.display.Latex object>"
      ]
     },
     "metadata": {},
     "output_type": "display_data"
    }
   ],
   "source": [
    "%%latex\n",
    "\n",
    "Let \n",
    "$$\\mathbf{\\underline{X}} \\in  \\mathbb{R}^{I_1 \\times I_2 \\times ... \\times I_n \\times ... \\times I_N}$$ \n",
    "$$\\mathbf{A} \\in  \\mathbb{R}^{I_A \\times I_n}$$\n",
    "$$\\mathbf{B} \\in  \\mathbb{R}^{I_B \\times I_A}$$\n",
    "\n",
    "Consider dimensions of LHS\n",
    "$$ \\mathbf{\\underline{X}} \\times_n \\mathbf{A} \\in  \\mathbb{R}^{I_1 \\times I_2 \\times ... \\times I_A \\times ... \\times I_N}$$\n",
    "$$ \\mathbf{\\underline{X}} \\times_n \\mathbf{A} \\times_n \\mathbf{B} \\in  \\mathbb{R}^{I_1 \\times I_2 \\times ... \\times I_B \\times ... \\times I_N}$$\n",
    "\n",
    "Consider dimension of RHS\n",
    "$$ (\\mathbf{B}\\mathbf{A}) \\in \\mathbb{R}^{I_B \\times I_n}$$\n",
    "$$ \\mathbf{\\underline{X}} \\times_n (\\mathbf{B}\\mathbf{A}) \\in  \\mathbb{R}^{I_1 \\times I_2 \\times ... \\times I_B \\times ... \\times I_N}$$\n",
    "\n",
    "The dimensions of both sides agree."
   ]
  }
 ],
 "metadata": {
  "kernelspec": {
   "display_name": "Python 3",
   "language": "python",
   "name": "python3"
  },
  "language_info": {
   "codemirror_mode": {
    "name": "ipython",
    "version": 3
   },
   "file_extension": ".py",
   "mimetype": "text/x-python",
   "name": "python",
   "nbconvert_exporter": "python",
   "pygments_lexer": "ipython3",
   "version": "3.5.5"
  },
  "toc-autonumbering": false,
  "toc-showcode": false,
  "toc-showmarkdowntxt": false
 },
 "nbformat": 4,
 "nbformat_minor": 2
}
